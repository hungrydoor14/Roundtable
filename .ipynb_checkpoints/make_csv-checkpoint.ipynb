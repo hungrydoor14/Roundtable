{
 "cells": [
  {
   "cell_type": "code",
   "execution_count": 1,
   "id": "37505787-a2fd-40eb-9dac-d4a5681e92f1",
   "metadata": {},
   "outputs": [],
   "source": [
    "import csv\n",
    "import pandas as pd"
   ]
  },
  {
   "cell_type": "code",
   "execution_count": null,
   "id": "a005a56b-0b71-4136-8463-3bb12eb171b7",
   "metadata": {},
   "outputs": [],
   "source": []
  },
  {
   "cell_type": "code",
   "execution_count": 3,
   "id": "0547a430-59a8-402d-9d35-01fc62db486e",
   "metadata": {},
   "outputs": [],
   "source": [
    "# The csv should contain info like:\n",
    "# name\n",
    "# release_year\n",
    "# developer\n",
    "# rating\n",
    "# plot_summary\n",
    "# links (xbox, playstation, steam)\n",
    "# likes\n",
    "# dislikes\n",
    "# img\n",
    "# score"
   ]
  },
  {
   "cell_type": "code",
   "execution_count": 25,
   "id": "ca5509d0-0609-4b6c-a703-e7e6758f991a",
   "metadata": {},
   "outputs": [
    {
     "name": "stdin",
     "output_type": "stream",
     "text": [
      "Enter the game name:  Ark\n",
      "Enter abbreviation:  ASA\n",
      "Enter the release year (e.g., 2023):  2023\n",
      "Enter the developer name:  Studio Wildcard\n",
      "Enter the game rating:  M\n",
      "Enter the plot summary:  Reborn amidst neon-drenched jungles and thunderous roars, you stand a stranger on a primeval ark – will you conquer this dinosaur paradise with fangs and fire, or fall prey to its wild beauty?\n",
      "Enter the Xbox link:  https://www.xbox.com/en-US/games/store/ark-survival-ascended/9P33VJGVPHVP\n",
      "Enter the PlayStation link:  https://store.playstation.com/en-us/product/UP0691-PPSA16810_00-SURVIVALASCENDED\n",
      "Enter the Steam link:  https://store.steampowered.com/app/2399830/ARK_Survival_Ascended/\n",
      "Enter the image source URL:  ASA.png\n",
      "Enter the score:  0\n"
     ]
    },
    {
     "name": "stdout",
     "output_type": "stream",
     "text": [
      "Game data appended to games.csv.\n"
     ]
    }
   ],
   "source": [
    "def add_game():\n",
    "    filename = \"games.csv\"\n",
    "\n",
    "    new_game = {\n",
    "        \"name\": input(\"Enter the game name: \"),  \n",
    "        \"abbrev\": input(\"Enter abbreviation: \"),\n",
    "        \"release_year\": int(input(\"Enter the release year (e.g., 2023): \")),\n",
    "        \"developer\": input(\"Enter the developer name: \"),  \n",
    "        \"rating\": str(input(\"Enter the game rating: \")),\n",
    "        \"plot_summary\": input(\"Enter the plot summary: \"), \n",
    "        \"links\": {  \n",
    "            \"xbox\": input(\"Enter the Xbox link: \"),\n",
    "            \"playstation\": input(\"Enter the PlayStation link: \"),\n",
    "            \"steam\": input(\"Enter the Steam link: \")\n",
    "        },\n",
    "        \"likes\": 0,\n",
    "        \"dislikes\": 0,\n",
    "        \"img\": input(\"Enter the image source URL: \"), \n",
    "        \"score\": float(input(\"Enter the score: \"))  \n",
    "    }\n",
    "\n",
    "    # Append to CSV\n",
    "    try:\n",
    "        with open(filename, mode=\"a\", newline=\"\") as file:\n",
    "            fieldnames = [\n",
    "                \"name\", \"abbrev\", \"release_year\", \"developer\", \"rating\", \"plot_summary\",\n",
    "                \"xbox\", \"playstation\", \"steam\", \"likes\", \"dislikes\", \"img\", \"score\"\n",
    "            ]\n",
    "            writer = csv.DictWriter(file, fieldnames=fieldnames)\n",
    "\n",
    "            # Write header only if the file is empty\n",
    "            if file.tell() == 0:\n",
    "                writer.writeheader()\n",
    "\n",
    "            # Write the game data directly, excluding 'abbrev'\n",
    "            writer.writerow({\n",
    "                \"name\": new_game[\"name\"],\n",
    "                \"abbrev\": new_game[\"abbrev\"],\n",
    "                \"release_year\": new_game[\"release_year\"],\n",
    "                \"developer\": new_game[\"developer\"],\n",
    "                \"rating\": new_game[\"rating\"],\n",
    "                \"plot_summary\": new_game[\"plot_summary\"],\n",
    "                \"xbox\": new_game[\"links\"][\"xbox\"],\n",
    "                \"playstation\": new_game[\"links\"][\"playstation\"],\n",
    "                \"steam\": new_game[\"links\"][\"steam\"],\n",
    "                \"likes\": new_game[\"likes\"],\n",
    "                \"dislikes\": new_game[\"dislikes\"],\n",
    "                \"img\": new_game[\"img\"],\n",
    "                \"score\": new_game[\"score\"]\n",
    "            })\n",
    "\n",
    "        print(f\"Game data appended to {filename}.\")\n",
    "    except Exception as e:\n",
    "        print(f\"Error: {e}\")\n",
    "\n",
    "add_game()\n"
   ]
  },
  {
   "cell_type": "code",
   "execution_count": 22,
   "id": "bb2d4180-de8a-4691-a19f-654e3d61f0d9",
   "metadata": {},
   "outputs": [
    {
     "data": {
      "text/html": [
       "<div>\n",
       "<style scoped>\n",
       "    .dataframe tbody tr th:only-of-type {\n",
       "        vertical-align: middle;\n",
       "    }\n",
       "\n",
       "    .dataframe tbody tr th {\n",
       "        vertical-align: top;\n",
       "    }\n",
       "\n",
       "    .dataframe thead th {\n",
       "        text-align: right;\n",
       "    }\n",
       "</style>\n",
       "<table border=\"1\" class=\"dataframe\">\n",
       "  <thead>\n",
       "    <tr style=\"text-align: right;\">\n",
       "      <th></th>\n",
       "      <th>name</th>\n",
       "      <th>release_year</th>\n",
       "      <th>developer</th>\n",
       "      <th>rating</th>\n",
       "      <th>plot_summary</th>\n",
       "      <th>xbox</th>\n",
       "      <th>playstation</th>\n",
       "      <th>steam</th>\n",
       "      <th>likes</th>\n",
       "      <th>dislikes</th>\n",
       "      <th>img</th>\n",
       "      <th>score</th>\n",
       "    </tr>\n",
       "  </thead>\n",
       "  <tbody>\n",
       "    <tr>\n",
       "      <th>0</th>\n",
       "      <td>Ark Survival Ascended</td>\n",
       "      <td>2023</td>\n",
       "      <td>Studio Wildcard</td>\n",
       "      <td>M</td>\n",
       "      <td>Reborn amidst neon-drenched jungles and thunde...</td>\n",
       "      <td>https://www.xbox.com/en-US/games/store/ark-sur...</td>\n",
       "      <td>https://store.playstation.com/en-us/product/UP...</td>\n",
       "      <td>https://store.steampowered.com/app/2399830/ARK...</td>\n",
       "      <td>0</td>\n",
       "      <td>0</td>\n",
       "      <td>ASA.png</td>\n",
       "      <td>0.0</td>\n",
       "    </tr>\n",
       "  </tbody>\n",
       "</table>\n",
       "</div>"
      ],
      "text/plain": [
       "                    name  release_year        developer rating  \\\n",
       "0  Ark Survival Ascended          2023  Studio Wildcard      M   \n",
       "\n",
       "                                        plot_summary  \\\n",
       "0  Reborn amidst neon-drenched jungles and thunde...   \n",
       "\n",
       "                                                xbox  \\\n",
       "0  https://www.xbox.com/en-US/games/store/ark-sur...   \n",
       "\n",
       "                                         playstation  \\\n",
       "0  https://store.playstation.com/en-us/product/UP...   \n",
       "\n",
       "                                               steam  likes  dislikes  \\\n",
       "0  https://store.steampowered.com/app/2399830/ARK...      0         0   \n",
       "\n",
       "       img  score  \n",
       "0  ASA.png    0.0  "
      ]
     },
     "execution_count": 22,
     "metadata": {},
     "output_type": "execute_result"
    }
   ],
   "source": [
    "def get_df():\n",
    "    filename = \"games.csv\"\n",
    "    try:\n",
    "        df = pd.read_csv(filename)\n",
    "        return df\n",
    "    except: \n",
    "        return None\n",
    "    \n",
    "df = get_df()\n",
    "df"
   ]
  }
 ],
 "metadata": {
  "kernelspec": {
   "display_name": "Python 3 (ipykernel)",
   "language": "python",
   "name": "python3"
  },
  "language_info": {
   "codemirror_mode": {
    "name": "ipython",
    "version": 3
   },
   "file_extension": ".py",
   "mimetype": "text/x-python",
   "name": "python",
   "nbconvert_exporter": "python",
   "pygments_lexer": "ipython3",
   "version": "3.9.12"
  }
 },
 "nbformat": 4,
 "nbformat_minor": 5
}
